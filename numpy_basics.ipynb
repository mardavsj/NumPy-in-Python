{
 "cells": [
  {
   "cell_type": "markdown",
   "metadata": {},
   "source": [
    "### Load in NumPy"
   ]
  },
  {
   "cell_type": "code",
   "execution_count": 2,
   "metadata": {},
   "outputs": [],
   "source": [
    "import numpy as np "
   ]
  },
  {
   "cell_type": "markdown",
   "metadata": {},
   "source": [
    "### Create a NumPy Array "
   ]
  },
  {
   "cell_type": "code",
   "execution_count": 3,
   "metadata": {},
   "outputs": [
    {
     "name": "stdout",
     "output_type": "stream",
     "text": [
      "[1 3 5 7 9]\n",
      "<class 'numpy.ndarray'>\n"
     ]
    }
   ],
   "source": [
    "arr = np.array([1,3,5,7,9])\n",
    "print(arr)\n",
    "print(type(arr))"
   ]
  },
  {
   "cell_type": "markdown",
   "metadata": {},
   "source": [
    "### Create a Python List"
   ]
  },
  {
   "cell_type": "code",
   "execution_count": 4,
   "metadata": {},
   "outputs": [
    {
     "name": "stdout",
     "output_type": "stream",
     "text": [
      "[1, 3, 5, 7, 9]\n",
      "<class 'list'>\n"
     ]
    }
   ],
   "source": [
    "li = [1,3,5,7,9]\n",
    "print(li)\n",
    "print(type(li))"
   ]
  },
  {
   "cell_type": "markdown",
   "metadata": {},
   "source": [
    "### Calculate the execution time in NumPy Array"
   ]
  },
  {
   "cell_type": "code",
   "execution_count": 5,
   "metadata": {},
   "outputs": [
    {
     "name": "stdout",
     "output_type": "stream",
     "text": [
      "1.59 µs ± 60.7 ns per loop (mean ± std. dev. of 7 runs, 100,000 loops each)\n"
     ]
    }
   ],
   "source": [
    "%timeit np.arange(1,7)**3"
   ]
  },
  {
   "cell_type": "markdown",
   "metadata": {},
   "source": [
    "### Calculate the execution time in Python List "
   ]
  },
  {
   "cell_type": "code",
   "execution_count": 6,
   "metadata": {},
   "outputs": [
    {
     "name": "stdout",
     "output_type": "stream",
     "text": [
      "350 ns ± 52.2 ns per loop (mean ± std. dev. of 7 runs, 1,000,000 loops each)\n"
     ]
    }
   ],
   "source": [
    "%timeit [i**3 for i in range(1,7)]"
   ]
  },
  {
   "cell_type": "markdown",
   "metadata": {},
   "source": [
    "### Get the Dimension "
   ]
  },
  {
   "cell_type": "code",
   "execution_count": 7,
   "metadata": {},
   "outputs": [
    {
     "name": "stdout",
     "output_type": "stream",
     "text": [
      "[2 4 6 8]\n",
      "1\n",
      "\n",
      "[[2 4 6 8]\n",
      " [1 3 5 7]]\n",
      "2\n"
     ]
    }
   ],
   "source": [
    "arr1 = np.array([2,4,6,8])\n",
    "print(arr1)\n",
    "print(arr1.ndim)\n",
    "\n",
    "print()\n",
    "\n",
    "arr2 = np.array([[2,4,6,8],[1,3,5,7]])\n",
    "print(arr2)\n",
    "print(arr2.ndim)"
   ]
  },
  {
   "cell_type": "markdown",
   "metadata": {},
   "source": [
    "### Create a three dimensional array "
   ]
  },
  {
   "cell_type": "code",
   "execution_count": 8,
   "metadata": {},
   "outputs": [
    {
     "name": "stdout",
     "output_type": "stream",
     "text": [
      "[[[1 2 3 4]\n",
      "  [3 4 5 6]\n",
      "  [5 6 7 8]]]\n",
      "\n",
      "3\n"
     ]
    }
   ],
   "source": [
    "arr = np.array([[[1,2,3,4],[3,4,5,6],[5,6,7,8]]])\n",
    "print(arr)\n",
    "print()\n",
    "print(arr.ndim)"
   ]
  },
  {
   "cell_type": "markdown",
   "metadata": {},
   "source": [
    "### Create a ten dimensional array "
   ]
  },
  {
   "cell_type": "code",
   "execution_count": 9,
   "metadata": {},
   "outputs": [
    {
     "name": "stdout",
     "output_type": "stream",
     "text": [
      "[[[[[[[[[[10 20 30 40]]]]]]]]]]\n",
      "\n",
      "10\n"
     ]
    }
   ],
   "source": [
    "arr = np.array([10,20,30,40], ndmin = 10)\n",
    "print(arr)\n",
    "\n",
    "print()\n",
    "\n",
    "print(arr.ndim)"
   ]
  },
  {
   "cell_type": "markdown",
   "metadata": {},
   "source": [
    "### Create an array filled with zeros"
   ]
  },
  {
   "cell_type": "code",
   "execution_count": 10,
   "metadata": {},
   "outputs": [
    {
     "name": "stdout",
     "output_type": "stream",
     "text": [
      "[0. 0. 0. 0. 0.]\n",
      "\n",
      "[[0. 0. 0.]\n",
      " [0. 0. 0.]\n",
      " [0. 0. 0.]]\n"
     ]
    }
   ],
   "source": [
    "arr_z = np.zeros(5)\n",
    "arr_z1 = np.zeros((3,3))\n",
    "\n",
    "print(arr_z)\n",
    "print()\n",
    "print(arr_z1)"
   ]
  },
  {
   "cell_type": "markdown",
   "metadata": {},
   "source": [
    "### Create an array filled with ones"
   ]
  },
  {
   "cell_type": "code",
   "execution_count": 11,
   "metadata": {},
   "outputs": [
    {
     "name": "stdout",
     "output_type": "stream",
     "text": [
      "[1. 1. 1. 1. 1.]\n",
      "\n",
      "[[1. 1. 1.]\n",
      " [1. 1. 1.]\n",
      " [1. 1. 1.]\n",
      " [1. 1. 1.]]\n"
     ]
    }
   ],
   "source": [
    "arr_o = np.ones(5)\n",
    "arr_o1 = np.ones((4,3))\n",
    "\n",
    "print(arr_o)\n",
    "print()\n",
    "print(arr_o1)"
   ]
  },
  {
   "cell_type": "markdown",
   "metadata": {},
   "source": [
    "### Create an empty array "
   ]
  },
  {
   "cell_type": "code",
   "execution_count": 12,
   "metadata": {},
   "outputs": [
    {
     "name": "stdout",
     "output_type": "stream",
     "text": [
      "[1. 1. 1. 1. 1.]\n"
     ]
    }
   ],
   "source": [
    "arr_e = np.empty(5)\n",
    "print(arr_e)\n",
    "# the empty array automatically recalls the previous memory's data ! "
   ]
  },
  {
   "cell_type": "markdown",
   "metadata": {},
   "source": [
    "### Create an ordered array "
   ]
  },
  {
   "cell_type": "code",
   "execution_count": 13,
   "metadata": {},
   "outputs": [
    {
     "name": "stdout",
     "output_type": "stream",
     "text": [
      "[0 1 2 3 4 5 6 7]\n"
     ]
    }
   ],
   "source": [
    "arr = np.arange((8))\n",
    "print(arr)"
   ]
  },
  {
   "cell_type": "markdown",
   "metadata": {},
   "source": [
    "### Create an array containing ones in diagonal "
   ]
  },
  {
   "cell_type": "code",
   "execution_count": 14,
   "metadata": {},
   "outputs": [
    {
     "name": "stdout",
     "output_type": "stream",
     "text": [
      "[[1. 0. 0. 0.]\n",
      " [0. 1. 0. 0.]\n",
      " [0. 0. 1. 0.]\n",
      " [0. 0. 0. 1.]]\n"
     ]
    }
   ],
   "source": [
    "arr = np.eye(4,4)\n",
    "print(arr)"
   ]
  },
  {
   "cell_type": "markdown",
   "metadata": {},
   "source": [
    "### Use of linspace in an array "
   ]
  },
  {
   "cell_type": "code",
   "execution_count": 15,
   "metadata": {},
   "outputs": [
    {
     "name": "stdout",
     "output_type": "stream",
     "text": [
      "[ 0.  5. 10. 15. 20.]\n"
     ]
    }
   ],
   "source": [
    "arr = np.linspace(0,20, num=5)\n",
    "print(arr)"
   ]
  },
  {
   "cell_type": "markdown",
   "metadata": {},
   "source": [
    "### Create NumPy Arrays with Random Numbers "
   ]
  },
  {
   "cell_type": "markdown",
   "metadata": {},
   "source": [
    "#### rand() function :"
   ]
  },
  {
   "cell_type": "code",
   "execution_count": 16,
   "metadata": {},
   "outputs": [
    {
     "name": "stdout",
     "output_type": "stream",
     "text": [
      "[0.77781262 0.71564665 0.21085222]\n",
      "\n",
      "[[0.15801508 0.96382108 0.56982654 0.26126851]\n",
      " [0.39634831 0.89863233 0.73733786 0.71669491]\n",
      " [0.53992044 0.05201929 0.2983947  0.81064431]\n",
      " [0.52531343 0.50506565 0.70414437 0.77050396]]\n"
     ]
    }
   ],
   "source": [
    "# this function is used to generate random values between 0 & 1 \n",
    "\n",
    "arr1 = np.random.rand(3)\n",
    "print(arr1)\n",
    "\n",
    "print()\n",
    "\n",
    "arr2 = np.random.rand(4,4)\n",
    "print(arr2)"
   ]
  },
  {
   "cell_type": "markdown",
   "metadata": {},
   "source": [
    "#### randn() function :"
   ]
  },
  {
   "cell_type": "code",
   "execution_count": 17,
   "metadata": {},
   "outputs": [
    {
     "name": "stdout",
     "output_type": "stream",
     "text": [
      "[ 0.30380973 -0.48363469 -0.60178851]\n",
      "\n",
      "[[ 2.11860386 -0.60009241  0.5354051   0.13248526]\n",
      " [-0.4976069   1.81132625 -0.32084828  0.51250637]\n",
      " [-0.36312012 -0.41873355 -0.03184417  1.81835425]\n",
      " [-0.99912325 -0.77171471  0.3437616   0.15080109]]\n"
     ]
    }
   ],
   "source": [
    "# this function is used to generate random values close to zero (this may return both positive & negative)\n",
    "\n",
    "arr1 = np.random.randn(3)\n",
    "print(arr1)\n",
    "\n",
    "print()\n",
    "\n",
    "arr2 = np.random.randn(4,4)\n",
    "print(arr2)"
   ]
  },
  {
   "cell_type": "markdown",
   "metadata": {},
   "source": [
    "#### ranf() function :"
   ]
  },
  {
   "cell_type": "code",
   "execution_count": 18,
   "metadata": {},
   "outputs": [
    {
     "name": "stdout",
     "output_type": "stream",
     "text": [
      "[0.23570454 0.62439812 0.13040131 0.3008054  0.05396804]\n"
     ]
    }
   ],
   "source": [
    "# this function is used for doing random sampling in numpy\n",
    "# It returns an array of specified shape and fills it with random floats in the half-open interval [0.0, 1.0)\n",
    "\n",
    "arr1 = np.random.ranf(5)\n",
    "print(arr1)"
   ]
  },
  {
   "cell_type": "markdown",
   "metadata": {},
   "source": [
    "#### randint() function : "
   ]
  },
  {
   "cell_type": "code",
   "execution_count": 19,
   "metadata": {},
   "outputs": [
    {
     "name": "stdout",
     "output_type": "stream",
     "text": [
      "[4 5 5 6]\n"
     ]
    }
   ],
   "source": [
    "# this function is used to generate a random number between any particular given range\n",
    "\n",
    "arr2 = np.random.randint(1,7,4) # np.random.randint(min_value, max_value, total_values_between_them)\n",
    "print(arr2)"
   ]
  },
  {
   "cell_type": "markdown",
   "metadata": {},
   "source": [
    "### Get Data Type"
   ]
  },
  {
   "cell_type": "code",
   "execution_count": 20,
   "metadata": {},
   "outputs": [
    {
     "name": "stdout",
     "output_type": "stream",
     "text": [
      "Data Type :  int32\n",
      "Data Type :  int64\n",
      "Data Type :  float64\n",
      "Data Type :  <U1\n",
      "Data Type :  <U32\n"
     ]
    }
   ],
   "source": [
    "# integer datatype\n",
    "arr1 = np.array([1,2,3,4,5,6])\n",
    "print(\"Data Type : \", arr1.dtype)\n",
    "\n",
    "arr_1 = np.array([21548956412,54896874654,4587651684])\n",
    "print(\"Data Type : \", arr_1.dtype)\n",
    "\n",
    "# float datatype\n",
    "arr2 = np.array([0.1, 1.1, 2.1, 3.3])\n",
    "print(\"Data Type : \", arr2.dtype)\n",
    "\n",
    "# string datatype\n",
    "arr3 = np.array(['m','a','r','d','a','v'])\n",
    "print(\"Data Type : \", arr3.dtype)\n",
    "\n",
    "# mixed (LGTV HD+)\n",
    "arr4 = np.array(['i', 13, \"punch\", 52.3])\n",
    "print(\"Data Type : \", arr4.dtype)"
   ]
  },
  {
   "cell_type": "markdown",
   "metadata": {},
   "source": [
    "### Converting data types"
   ]
  },
  {
   "cell_type": "code",
   "execution_count": 21,
   "metadata": {},
   "outputs": [
    {
     "name": "stdout",
     "output_type": "stream",
     "text": [
      "Data Type of [1 2 3 4 5] : int32\n",
      "Data Type of [1 2 3 4 5] : int16\n",
      "Data type of [1 2 3 4 5] : int64\n"
     ]
    }
   ],
   "source": [
    "arr1 = np.array([1,2,3,4,5])\n",
    "print(\"Data Type of\",arr1,\":\", arr1.dtype)\n",
    "\n",
    "arr2 = np.array([1,2,3,4,5], dtype = np.int16)\n",
    "print(\"Data Type of\",arr2,\":\", arr2.dtype)\n",
    "\n",
    "arr3 = np.array([1,2,3,4,5], dtype = np.int64)\n",
    "print(\"Data type of\",arr3,\":\", arr3.dtype)"
   ]
  },
  {
   "cell_type": "markdown",
   "metadata": {},
   "source": [
    "### Converting integer to float values "
   ]
  },
  {
   "cell_type": "code",
   "execution_count": 22,
   "metadata": {},
   "outputs": [
    {
     "name": "stdout",
     "output_type": "stream",
     "text": [
      "[12.  2. 13.  5.  7.]\n",
      "Data Type : float32\n",
      "\n",
      "[b'1' b'3' b'5' b'7' b'9']\n",
      "Data Type :  |S1\n"
     ]
    }
   ],
   "source": [
    "arr = np.array([12,2,13,5,7], dtype = \"f\")\n",
    "print(arr)\n",
    "print(\"Data Type :\", arr.dtype)\n",
    "\n",
    "print()\n",
    "\n",
    "arr1 = np.array([1,3,5,7,9], dtype = \"S\")\n",
    "print(arr1)\n",
    "print(\"Data Type : \", arr1.dtype)\n",
    "\n",
    "# List of characters that are used to represent dtype :\n",
    "\n",
    "# b - boolean\n",
    "# c - complex float\n",
    "# f - float  \n",
    "# i - integer  \n",
    "# m - timedelta\n",
    "# M - datetime\n",
    "# O - object \n",
    "# S - string\n",
    "# u - unsigned integer\n",
    "# U - Unicode string "
   ]
  },
  {
   "cell_type": "markdown",
   "metadata": {},
   "source": [
    "### Converting using functions "
   ]
  },
  {
   "cell_type": "code",
   "execution_count": 23,
   "metadata": {},
   "outputs": [
    {
     "name": "stdout",
     "output_type": "stream",
     "text": [
      "[1 3 5 7 9]\n",
      "Data Type : int32\n",
      "\n",
      "[1. 3. 5. 7. 9.]\n",
      "Data Type : float32\n",
      "\n",
      "[ True  True  True  True  True]\n",
      "Data Type : bool\n"
     ]
    }
   ],
   "source": [
    "arr = np.array([1,3,5,7,9])\n",
    "new_arr = np.float32(arr)\n",
    "new_new_arr = np.bool_(arr)\n",
    "\n",
    "print(arr)\n",
    "print(\"Data Type :\", arr.dtype)\n",
    "\n",
    "print()\n",
    "\n",
    "print(new_arr)\n",
    "print(\"Data Type :\", new_arr.dtype)\n",
    "\n",
    "print()\n",
    "\n",
    "print(new_new_arr)\n",
    "print(\"Data Type :\", new_new_arr.dtype)"
   ]
  },
  {
   "cell_type": "markdown",
   "metadata": {},
   "source": [
    "### Arithmetic Operations "
   ]
  },
  {
   "cell_type": "markdown",
   "metadata": {},
   "source": [
    "#### Addition (a+b) :"
   ]
  },
  {
   "cell_type": "code",
   "execution_count": 24,
   "metadata": {},
   "outputs": [
    {
     "name": "stdout",
     "output_type": "stream",
     "text": [
      "[4 5 6 7 8]\n",
      "\n",
      "[ 2  4  6  8 10]\n"
     ]
    }
   ],
   "source": [
    "arr = np.array([1,2,3,4,5])\n",
    "add = arr + 3 \n",
    "print(add)\n",
    "\n",
    "print()\n",
    "\n",
    "arr1 = np.array([1,2,3,4,5])\n",
    "arr2 = np.array([1,2,3,4,5])\n",
    "adds = np.add(arr1, arr2) \n",
    "print(adds)"
   ]
  },
  {
   "cell_type": "markdown",
   "metadata": {},
   "source": [
    "#### Subtraction (a-b) :"
   ]
  },
  {
   "cell_type": "code",
   "execution_count": 25,
   "metadata": {},
   "outputs": [
    {
     "name": "stdout",
     "output_type": "stream",
     "text": [
      "[-2 -1  0  1  2]\n",
      "\n",
      "[0 0 0 0 0]\n"
     ]
    }
   ],
   "source": [
    "arr = np.array([1,2,3,4,5])\n",
    "sub = arr - 3 \n",
    "print(sub)\n",
    "\n",
    "print()\n",
    "\n",
    "arr1 = np.array([1,2,3,4,5])\n",
    "arr2 = np.array([1,2,3,4,5])\n",
    "subs = np.subtract(arr1, arr2) \n",
    "print(subs)"
   ]
  },
  {
   "cell_type": "markdown",
   "metadata": {},
   "source": [
    "#### Multiplication (a*b) :"
   ]
  },
  {
   "cell_type": "code",
   "execution_count": 26,
   "metadata": {},
   "outputs": [
    {
     "name": "stdout",
     "output_type": "stream",
     "text": [
      "[ 3  6  9 12 15]\n",
      "\n",
      "[ 1  4  9 16 25]\n"
     ]
    }
   ],
   "source": [
    "arr = np.array([1,2,3,4,5])\n",
    "mul = arr * 3 \n",
    "print(mul)\n",
    "\n",
    "print()\n",
    "\n",
    "arr1 = np.array([1,2,3,4,5])\n",
    "arr2 = np.array([1,2,3,4,5])\n",
    "mult = np.multiply(arr1, arr2) \n",
    "print(mult)"
   ]
  },
  {
   "cell_type": "markdown",
   "metadata": {},
   "source": [
    "#### Division (a/b) :"
   ]
  },
  {
   "cell_type": "code",
   "execution_count": 27,
   "metadata": {},
   "outputs": [
    {
     "name": "stdout",
     "output_type": "stream",
     "text": [
      "[0.5 1.  1.5 2.  2.5]\n",
      "\n",
      "[1. 1. 1. 1. 1.]\n"
     ]
    }
   ],
   "source": [
    "arr = np.array([1,2,3,4,5])\n",
    "div = arr / 2 \n",
    "print(div)\n",
    "\n",
    "print()\n",
    "\n",
    "arr1 = np.array([1,2,3,4,5])\n",
    "arr2 = np.array([1,2,3,4,5])\n",
    "divs = np.divide(arr1, arr2) \n",
    "print(divs)"
   ]
  },
  {
   "cell_type": "markdown",
   "metadata": {},
   "source": [
    "#### Modulus (a%b) :"
   ]
  },
  {
   "cell_type": "code",
   "execution_count": 28,
   "metadata": {},
   "outputs": [
    {
     "name": "stdout",
     "output_type": "stream",
     "text": [
      "[1 0 1 0 1]\n",
      "\n",
      "[0 0 0 0 0]\n"
     ]
    }
   ],
   "source": [
    "arr = np.array([1,2,3,4,5])\n",
    "mod = arr % 2 \n",
    "print(mod)\n",
    "\n",
    "print()\n",
    "\n",
    "arr1 = np.array([1,2,3,4,5])\n",
    "arr2 = np.array([1,2,3,4,5])\n",
    "mods = np.mod(arr1, arr2) \n",
    "print(mods)"
   ]
  },
  {
   "cell_type": "markdown",
   "metadata": {},
   "source": [
    "#### Power (a**b) :"
   ]
  },
  {
   "cell_type": "code",
   "execution_count": 29,
   "metadata": {},
   "outputs": [
    {
     "name": "stdout",
     "output_type": "stream",
     "text": [
      "[ 1  4  9 16 25]\n",
      "\n",
      "[   1    4   27  256 3125]\n"
     ]
    }
   ],
   "source": [
    "arr = np.array([1,2,3,4,5])\n",
    "pow = arr ** 2 \n",
    "print(pow)\n",
    "\n",
    "print()\n",
    "\n",
    "arr1 = np.array([1,2,3,4,5])\n",
    "arr2 = np.array([1,2,3,4,5])\n",
    "pows = np.power(arr1, arr2) \n",
    "print(pows)"
   ]
  },
  {
   "cell_type": "markdown",
   "metadata": {},
   "source": [
    "#### Reciprocal (1/a) :"
   ]
  },
  {
   "cell_type": "code",
   "execution_count": 30,
   "metadata": {},
   "outputs": [
    {
     "name": "stdout",
     "output_type": "stream",
     "text": [
      "[1.         0.5        0.33333333 0.25       0.2       ]\n",
      "\n",
      "[1 0 0 0 0]\n"
     ]
    }
   ],
   "source": [
    "arr = np.array([1,2,3,4,5])\n",
    "rec = 1 / arr \n",
    "print(rec)\n",
    "\n",
    "print()\n",
    "\n",
    "arr1 = np.array([1,2,3,4,5])\n",
    "recp = np.reciprocal(arr1) \n",
    "print(recp)"
   ]
  },
  {
   "cell_type": "markdown",
   "metadata": {},
   "source": [
    "### Arithmetic Functions "
   ]
  },
  {
   "cell_type": "markdown",
   "metadata": {},
   "source": [
    "#### Minimum (min) :"
   ]
  },
  {
   "cell_type": "code",
   "execution_count": 31,
   "metadata": {},
   "outputs": [
    {
     "name": "stdout",
     "output_type": "stream",
     "text": [
      "Minimum number: 1\n",
      "Position : 6\n",
      "\n",
      "Minimum numbers from each column : [2 1 3 5 7]\n",
      "Minimum numbers from each row : [2 1]\n"
     ]
    }
   ],
   "source": [
    "arr = np.array([[2,4,6,8,13],[5,1,3,5,7]])\n",
    "\n",
    "print(\"Minimum number:\", np.min(arr))\n",
    "print(\"Position :\", np.argmin(arr))\n",
    "\n",
    "print() \n",
    "\n",
    "print(\"Minimum numbers from each column :\", np.min(arr, axis = 0)) # for column\n",
    "print(\"Minimum numbers from each row :\", np.min(arr, axis = 1)) # for row "
   ]
  },
  {
   "cell_type": "markdown",
   "metadata": {},
   "source": [
    "#### Maximum (max) :"
   ]
  },
  {
   "cell_type": "code",
   "execution_count": 32,
   "metadata": {},
   "outputs": [
    {
     "name": "stdout",
     "output_type": "stream",
     "text": [
      "Maximum number: 13\n",
      "Position : 4\n",
      "\n",
      "Maximum numbers from each column : [ 5  4  6  8 13]\n",
      "Maximum numbers from each row : [13  7]\n"
     ]
    }
   ],
   "source": [
    "arr = np.array([[2,4,6,8,13],[5,1,3,5,7]])\n",
    "\n",
    "print(\"Maximum number:\", np.max(arr))\n",
    "print(\"Position :\", np.argmax(arr))\n",
    "\n",
    "print()\n",
    "\n",
    "print(\"Maximum numbers from each column :\", np.max(arr, axis = 0)) # for column \n",
    "print(\"Maximum numbers from each row :\", np.max(arr, axis = 1)) # for row "
   ]
  },
  {
   "cell_type": "markdown",
   "metadata": {},
   "source": [
    "#### Square root (sqrt) :"
   ]
  },
  {
   "cell_type": "code",
   "execution_count": 33,
   "metadata": {},
   "outputs": [
    {
     "name": "stdout",
     "output_type": "stream",
     "text": [
      "Square root : [ 2.  3.  8. 12. 15. 30.]\n"
     ]
    }
   ],
   "source": [
    "arr = ([4,9,64,144,225,900])\n",
    "\n",
    "print(\"Square root :\", np.sqrt(arr))"
   ]
  },
  {
   "cell_type": "markdown",
   "metadata": {},
   "source": [
    "#### sin & cos values : "
   ]
  },
  {
   "cell_type": "code",
   "execution_count": 34,
   "metadata": {},
   "outputs": [
    {
     "name": "stdout",
     "output_type": "stream",
     "text": [
      "sin values : [ 0.          0.84147098 -0.2794155   0.41211849  0.42016704]\n",
      "\n",
      "cos values : [-0.65364362 -0.91113026  0.39185723  0.8711474   0.36731937  0.0662467 ]\n"
     ]
    }
   ],
   "source": [
    "arr1 = np.array([0,1,6,9,13])\n",
    "print(\"sin values :\", np.sin(arr1))\n",
    "\n",
    "print() \n",
    "\n",
    "arr2 = np.array([0,1,3,7,11])\n",
    "print(\"cos values :\", np.cos(arr))"
   ]
  },
  {
   "cell_type": "markdown",
   "metadata": {},
   "source": [
    "#### Cumulative Sum (cumsum) :"
   ]
  },
  {
   "cell_type": "code",
   "execution_count": 35,
   "metadata": {},
   "outputs": [
    {
     "name": "stdout",
     "output_type": "stream",
     "text": [
      "Cumulative sum : [ 1  3  6 10 15]\n"
     ]
    }
   ],
   "source": [
    "arr = np.array([1,2,3,4,5]) # cumsum process - [1, 1+2, 1+2+3, 1+2+3+4, 1+2+3+4+5]\n",
    "\n",
    "print(\"Cumulative sum :\", np.cumsum(arr))"
   ]
  },
  {
   "cell_type": "markdown",
   "metadata": {},
   "source": [
    "### Get Shape "
   ]
  },
  {
   "cell_type": "code",
   "execution_count": 36,
   "metadata": {},
   "outputs": [
    {
     "name": "stdout",
     "output_type": "stream",
     "text": [
      "[[1 2 3]\n",
      " [2 4 6]]\n",
      "(2, 3)\n",
      "\n",
      "[[[1 2 3]\n",
      "  [2 4 6]\n",
      "  [7 8 9]]]\n",
      "(1, 3, 3)\n"
     ]
    }
   ],
   "source": [
    "arr = np.array([[1,2,3],[2,4,6]])\n",
    "print(arr)\n",
    "print(arr.shape)\n",
    "\n",
    "print()\n",
    "\n",
    "arr1= np.array([[[1,2,3],[2,4,6],[7,8,9]]])\n",
    "print(arr1)\n",
    "print(arr1.shape)"
   ]
  },
  {
   "cell_type": "markdown",
   "metadata": {},
   "source": [
    "### Reshape function "
   ]
  },
  {
   "cell_type": "code",
   "execution_count": 37,
   "metadata": {},
   "outputs": [
    {
     "name": "stdout",
     "output_type": "stream",
     "text": [
      "[ 1  3  7  9 11 13 15 17 19]\n",
      "1\n",
      "\n",
      "[[ 1  3  7]\n",
      " [ 9 11 13]\n",
      " [15 17 19]]\n",
      "2\n",
      "\n",
      "[ 1  3  7  9 11 13 15 17 19]\n",
      "1\n"
     ]
    }
   ],
   "source": [
    "arr1 = np.array([1,3,7,9,11,13,15,17,19])\n",
    "print(arr1)\n",
    "print(arr1.ndim)\n",
    "\n",
    "print() \n",
    "\n",
    "# reshaping the one dimensional array into two dimensional array.\n",
    "re = arr1.reshape(3,3) # reshape(no. of rows, no. of columns)\n",
    "print(re)\n",
    "print(re.ndim)\n",
    "\n",
    "print()\n",
    "\n",
    "# reshaping again into one dimensional array \n",
    "new = re.reshape(-1)\n",
    "print(new)\n",
    "print(new.ndim)"
   ]
  },
  {
   "cell_type": "markdown",
   "metadata": {},
   "source": [
    "### Indexing in 1D array"
   ]
  },
  {
   "cell_type": "code",
   "execution_count": 38,
   "metadata": {},
   "outputs": [
    {
     "name": "stdout",
     "output_type": "stream",
     "text": [
      "5\n",
      "5\n"
     ]
    }
   ],
   "source": [
    "arr = np.array([1,3,5,7,9])\n",
    "\n",
    "# positive indexing\n",
    "print(arr[2])\n",
    "\n",
    "# negative indexing\n",
    "print(arr[-3])"
   ]
  },
  {
   "cell_type": "markdown",
   "metadata": {},
   "source": [
    "### Indexing in 2D array"
   ]
  },
  {
   "cell_type": "code",
   "execution_count": 42,
   "metadata": {},
   "outputs": [
    {
     "name": "stdout",
     "output_type": "stream",
     "text": [
      "7\n",
      "\n",
      "7\n"
     ]
    }
   ],
   "source": [
    "arr = np.array([[9,8,7,6],[5,4,3,2]])\n",
    "\n",
    "print(arr[0,2]) # positive indexing (here 0 is the index of first array and 2 is the index number of 7 inside that array.)\n",
    "print()\n",
    "print(arr[0,-2]) # negative indexing"
   ]
  },
  {
   "cell_type": "markdown",
   "metadata": {},
   "source": [
    "### Indexing in 3D array "
   ]
  },
  {
   "cell_type": "code",
   "execution_count": 43,
   "metadata": {},
   "outputs": [
    {
     "name": "stdout",
     "output_type": "stream",
     "text": [
      "7\n",
      "\n",
      "1\n",
      "\n",
      "4\n"
     ]
    }
   ],
   "source": [
    "arr = np.array([[[1,2,3],[4,5,6],[7,8,9]]])\n",
    "\n",
    "print(arr[0,2,0]) # positive indexing \n",
    "print()\n",
    "print(arr[0,0,0]) # positive indexing\n",
    "print()\n",
    "print(arr[0,1,-3]) # negative indexing "
   ]
  },
  {
   "cell_type": "markdown",
   "metadata": {},
   "source": [
    "### Slicing in an array "
   ]
  },
  {
   "cell_type": "code",
   "execution_count": 49,
   "metadata": {},
   "outputs": [
    {
     "name": "stdout",
     "output_type": "stream",
     "text": [
      "[ 0  1  2  3  4  5  6  7  8  9 10]\n",
      "\n",
      "Get numbers from 3 to 7 : [3 4 5 6 7]\n",
      "Get all numbers after 3 : [ 4  5  6  7  8  9 10]\n",
      "Get all numbers till 3 : [0 1 2 3]\n"
     ]
    }
   ],
   "source": [
    "arr = np.array([0,1,2,3,4,5,6,7,8,9,10])\n",
    "print(arr)\n",
    "\n",
    "print()\n",
    "\n",
    "print(\"Get numbers from 3 to 7 :\", arr[3:8])\n",
    "print(\"Get all numbers after 3 :\", arr[4:])\n",
    "print(\"Get all numbers till 3 :\", arr[:4])"
   ]
  },
  {
   "cell_type": "code",
   "execution_count": 55,
   "metadata": {},
   "outputs": [
    {
     "name": "stdout",
     "output_type": "stream",
     "text": [
      "[1 2 3 4 5 6 7 8 9]\n",
      "\n",
      "Get all Odd numbers : [1 3 5 7 9]\n",
      "Get all even numbers : [2 4 6 8]\n",
      "Skip 2 numbers between 3 to 8 : [3 6 9]\n"
     ]
    }
   ],
   "source": [
    "arr = np.array([1,2,3,4,5,6,7,8,9])\n",
    "print(arr)\n",
    "\n",
    "print()\n",
    "\n",
    "print(\"Get all Odd numbers :\", arr[::2]) # [start:stop:step]\n",
    "print(\"Get all even numbers :\", arr[1::2]) # [1:_:2] -> 1 is index number running till end & here 2 represents skipping 1/jumping 2\n",
    "print(\"Skip 2 numbers between 3 to 8 :\", arr[2:9:3])"
   ]
  },
  {
   "cell_type": "markdown",
   "metadata": {},
   "source": [
    "### Slicing in 2D array "
   ]
  },
  {
   "cell_type": "code",
   "execution_count": 63,
   "metadata": {},
   "outputs": [
    {
     "name": "stdout",
     "output_type": "stream",
     "text": [
      "[[ 1  2  3  4  5 11]\n",
      " [ 6  7  8  9 13 20]]\n",
      "Get numbers from 1 to 4 : [1 2 3 4]\n"
     ]
    }
   ],
   "source": [
    "arr = np.array([[1,2,3,4,5,11],[6,7,8,9,13,20]])\n",
    "print(arr)\n",
    "\n",
    "print(\"Get numbers from 1 to 4 :\", arr[0,:4])"
   ]
  },
  {
   "cell_type": "markdown",
   "metadata": {},
   "source": [
    "### Iteration of 1D array "
   ]
  },
  {
   "cell_type": "code",
   "execution_count": 71,
   "metadata": {},
   "outputs": [
    {
     "name": "stdout",
     "output_type": "stream",
     "text": [
      "From first method :\n",
      "1\n",
      "2\n",
      "3\n",
      "4\n",
      "5\n",
      "\n",
      "From second method :\n",
      "1\n",
      "2\n",
      "3\n",
      "4\n",
      "5\n"
     ]
    }
   ],
   "source": [
    "arr = np.array([1,2,3,4,5])\n",
    "\n",
    "# first method \n",
    "print(\"From first method :\")\n",
    "for i in arr :\n",
    "    print(i)\n",
    "    \n",
    "print()\n",
    "\n",
    "# second method\n",
    "print(\"From second method :\")\n",
    "for j in np.nditer(arr):\n",
    "    print(j)"
   ]
  },
  {
   "cell_type": "markdown",
   "metadata": {},
   "source": [
    "### Iteration of 2D array "
   ]
  },
  {
   "cell_type": "code",
   "execution_count": 73,
   "metadata": {},
   "outputs": [
    {
     "name": "stdout",
     "output_type": "stream",
     "text": [
      "[1 2]\n",
      "[4 5]\n",
      "[7 8]\n",
      "\n",
      "From first method :\n",
      "1\n",
      "2\n",
      "4\n",
      "5\n",
      "7\n",
      "8\n",
      "\n",
      "From second method :\n",
      "1\n",
      "2\n",
      "4\n",
      "5\n",
      "7\n",
      "8\n"
     ]
    }
   ],
   "source": [
    "arr = np.array([[1,2],[4,5],[7,8]])\n",
    "\n",
    "for i in arr :\n",
    "    print(i)\n",
    "\n",
    "print() \n",
    "\n",
    "# first method \n",
    "print(\"From first method :\")\n",
    "for j in arr :\n",
    "    for k in j :\n",
    "        print(k)\n",
    "        \n",
    "print()        \n",
    "\n",
    "# second method \n",
    "print(\"From second method :\")\n",
    "for l in np.nditer(arr):\n",
    "    print(l)"
   ]
  },
  {
   "cell_type": "markdown",
   "metadata": {},
   "source": [
    "### Iteration of 3D array "
   ]
  },
  {
   "cell_type": "code",
   "execution_count": 74,
   "metadata": {},
   "outputs": [
    {
     "name": "stdout",
     "output_type": "stream",
     "text": [
      "[[1 2 3]\n",
      " [5 6 7]]\n",
      "\n",
      "From first method :\n",
      "1\n",
      "2\n",
      "3\n",
      "5\n",
      "6\n",
      "7\n",
      "\n",
      "From second method :\n",
      "1\n",
      "2\n",
      "3\n",
      "5\n",
      "6\n",
      "7\n"
     ]
    }
   ],
   "source": [
    "arr = np.array([[[1,2,3],[5,6,7]]])\n",
    "\n",
    "for i in arr:\n",
    "    print(i)\n",
    "    \n",
    "print() \n",
    "\n",
    "# first method \n",
    "print(\"From first method :\")\n",
    "for j in arr:\n",
    "    for k in j:\n",
    "        for l in k:\n",
    "            print(l)\n",
    "            \n",
    "print()\n",
    "\n",
    "# second method \n",
    "print(\"From second method :\")\n",
    "for m in np.nditer(arr):\n",
    "    print(m)"
   ]
  },
  {
   "cell_type": "markdown",
   "metadata": {},
   "source": [
    "### Iteration with respect to indexing "
   ]
  },
  {
   "cell_type": "code",
   "execution_count": 76,
   "metadata": {},
   "outputs": [
    {
     "name": "stdout",
     "output_type": "stream",
     "text": [
      "(0, 0) 1\n",
      "(0, 1) 2\n",
      "(0, 2) 3\n",
      "(1, 0) 4\n",
      "(1, 1) 5\n",
      "(1, 2) 6\n"
     ]
    }
   ],
   "source": [
    "arr = np.array([[1,2,3],[4,5,6]])\n",
    "\n",
    "for i,j in np.ndenumerate(arr): # ndenumerate function will pass 2 values both for indexing as well as iterate data. \n",
    "    print(i,j)"
   ]
  },
  {
   "cell_type": "code",
   "execution_count": null,
   "metadata": {},
   "outputs": [],
   "source": []
  }
 ],
 "metadata": {
  "kernelspec": {
   "display_name": "Python 3",
   "language": "python",
   "name": "python3"
  },
  "language_info": {
   "codemirror_mode": {
    "name": "ipython",
    "version": 3
   },
   "file_extension": ".py",
   "mimetype": "text/x-python",
   "name": "python",
   "nbconvert_exporter": "python",
   "pygments_lexer": "ipython3",
   "version": "3.12.1"
  }
 },
 "nbformat": 4,
 "nbformat_minor": 2
}
