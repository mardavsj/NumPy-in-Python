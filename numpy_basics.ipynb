{
 "cells": [
  {
   "cell_type": "markdown",
   "metadata": {},
   "source": [
    "### Load in NumPy"
   ]
  },
  {
   "cell_type": "code",
   "execution_count": 5,
   "metadata": {},
   "outputs": [],
   "source": [
    "import numpy as np "
   ]
  },
  {
   "cell_type": "markdown",
   "metadata": {},
   "source": [
    "### Create a NumPy Array "
   ]
  },
  {
   "cell_type": "code",
   "execution_count": 6,
   "metadata": {},
   "outputs": [
    {
     "name": "stdout",
     "output_type": "stream",
     "text": [
      "[1 3 5 7 9]\n",
      "<class 'numpy.ndarray'>\n"
     ]
    }
   ],
   "source": [
    "arr = np.array([1,3,5,7,9])\n",
    "print(arr)\n",
    "print(type(arr))"
   ]
  },
  {
   "cell_type": "markdown",
   "metadata": {},
   "source": [
    "### Create a Python List"
   ]
  },
  {
   "cell_type": "code",
   "execution_count": 7,
   "metadata": {},
   "outputs": [
    {
     "name": "stdout",
     "output_type": "stream",
     "text": [
      "[1, 3, 5, 7, 9]\n",
      "<class 'list'>\n"
     ]
    }
   ],
   "source": [
    "li = [1,3,5,7,9]\n",
    "print(li)\n",
    "print(type(li))"
   ]
  },
  {
   "cell_type": "markdown",
   "metadata": {},
   "source": [
    "### Calculate the execution time in NumPy Array"
   ]
  },
  {
   "cell_type": "code",
   "execution_count": 8,
   "metadata": {},
   "outputs": [
    {
     "name": "stdout",
     "output_type": "stream",
     "text": [
      "3.87 µs ± 402 ns per loop (mean ± std. dev. of 7 runs, 100,000 loops each)\n"
     ]
    }
   ],
   "source": [
    "%timeit np.arange(1,7)**3"
   ]
  },
  {
   "cell_type": "markdown",
   "metadata": {},
   "source": [
    "### Calculate the execution time in Python List "
   ]
  },
  {
   "cell_type": "code",
   "execution_count": 9,
   "metadata": {},
   "outputs": [
    {
     "name": "stdout",
     "output_type": "stream",
     "text": [
      "351 ns ± 18.1 ns per loop (mean ± std. dev. of 7 runs, 1,000,000 loops each)\n"
     ]
    }
   ],
   "source": [
    "%timeit [i**3 for i in range(1,7)]"
   ]
  },
  {
   "cell_type": "markdown",
   "metadata": {},
   "source": [
    "### Get the Dimension "
   ]
  },
  {
   "cell_type": "code",
   "execution_count": 10,
   "metadata": {},
   "outputs": [
    {
     "name": "stdout",
     "output_type": "stream",
     "text": [
      "[2 4 6 8]\n",
      "1\n",
      "\n",
      "[[2 4 6 8]\n",
      " [1 3 5 7]]\n",
      "2\n"
     ]
    }
   ],
   "source": [
    "arr1 = np.array([2,4,6,8])\n",
    "print(arr1)\n",
    "print(arr1.ndim)\n",
    "\n",
    "print()\n",
    "\n",
    "arr2 = np.array([[2,4,6,8],[1,3,5,7]])\n",
    "print(arr2)\n",
    "print(arr2.ndim)"
   ]
  },
  {
   "cell_type": "markdown",
   "metadata": {},
   "source": [
    "### Create a three dimensional array "
   ]
  },
  {
   "cell_type": "code",
   "execution_count": 11,
   "metadata": {},
   "outputs": [
    {
     "name": "stdout",
     "output_type": "stream",
     "text": [
      "[[[1 2 3 4]\n",
      "  [3 4 5 6]\n",
      "  [5 6 7 8]]]\n",
      "\n",
      "3\n"
     ]
    }
   ],
   "source": [
    "arr = np.array([[[1,2,3,4],[3,4,5,6],[5,6,7,8]]])\n",
    "print(arr)\n",
    "print()\n",
    "print(arr.ndim)"
   ]
  },
  {
   "cell_type": "markdown",
   "metadata": {},
   "source": [
    "### Create a ten dimensional array "
   ]
  },
  {
   "cell_type": "code",
   "execution_count": 12,
   "metadata": {},
   "outputs": [
    {
     "name": "stdout",
     "output_type": "stream",
     "text": [
      "[[[[[[[[[[10 20 30 40]]]]]]]]]]\n",
      "\n",
      "10\n"
     ]
    }
   ],
   "source": [
    "arr = np.array([10,20,30,40], ndmin = 10)\n",
    "print(arr)\n",
    "\n",
    "print()\n",
    "\n",
    "print(arr.ndim)"
   ]
  },
  {
   "cell_type": "markdown",
   "metadata": {},
   "source": [
    "### Create an array filled with zeros"
   ]
  },
  {
   "cell_type": "code",
   "execution_count": 13,
   "metadata": {},
   "outputs": [
    {
     "name": "stdout",
     "output_type": "stream",
     "text": [
      "[0. 0. 0. 0. 0.]\n",
      "\n",
      "[[0. 0. 0.]\n",
      " [0. 0. 0.]\n",
      " [0. 0. 0.]]\n"
     ]
    }
   ],
   "source": [
    "arr_z = np.zeros(5)\n",
    "arr_z1 = np.zeros((3,3))\n",
    "\n",
    "print(arr_z)\n",
    "print()\n",
    "print(arr_z1)"
   ]
  },
  {
   "cell_type": "markdown",
   "metadata": {},
   "source": [
    "### Create an array filled with ones"
   ]
  },
  {
   "cell_type": "code",
   "execution_count": 14,
   "metadata": {},
   "outputs": [
    {
     "name": "stdout",
     "output_type": "stream",
     "text": [
      "[1. 1. 1. 1. 1.]\n",
      "\n",
      "[[1. 1. 1.]\n",
      " [1. 1. 1.]\n",
      " [1. 1. 1.]\n",
      " [1. 1. 1.]]\n"
     ]
    }
   ],
   "source": [
    "arr_o = np.ones(5)\n",
    "arr_o1 = np.ones((4,3))\n",
    "\n",
    "print(arr_o)\n",
    "print()\n",
    "print(arr_o1)"
   ]
  },
  {
   "cell_type": "markdown",
   "metadata": {},
   "source": [
    "### Create an empty array "
   ]
  },
  {
   "cell_type": "code",
   "execution_count": 15,
   "metadata": {},
   "outputs": [
    {
     "name": "stdout",
     "output_type": "stream",
     "text": [
      "[1. 1. 1. 1. 1.]\n"
     ]
    }
   ],
   "source": [
    "arr_e = np.empty(5)\n",
    "print(arr_e)\n",
    "# the empty array automatically recalls the previous memory's data ! "
   ]
  },
  {
   "cell_type": "markdown",
   "metadata": {},
   "source": [
    "### Create an ordered array "
   ]
  },
  {
   "cell_type": "code",
   "execution_count": 16,
   "metadata": {},
   "outputs": [
    {
     "name": "stdout",
     "output_type": "stream",
     "text": [
      "[0 1 2 3 4 5 6 7]\n"
     ]
    }
   ],
   "source": [
    "arr = np.arange((8))\n",
    "print(arr)"
   ]
  },
  {
   "cell_type": "markdown",
   "metadata": {},
   "source": [
    "### Create an array containing ones in diagonal "
   ]
  },
  {
   "cell_type": "code",
   "execution_count": 17,
   "metadata": {},
   "outputs": [
    {
     "name": "stdout",
     "output_type": "stream",
     "text": [
      "[[1. 0. 0. 0.]\n",
      " [0. 1. 0. 0.]\n",
      " [0. 0. 1. 0.]\n",
      " [0. 0. 0. 1.]]\n"
     ]
    }
   ],
   "source": [
    "arr = np.eye(4,4)\n",
    "print(arr)"
   ]
  },
  {
   "cell_type": "markdown",
   "metadata": {},
   "source": [
    "### Use of linspace in an array "
   ]
  },
  {
   "cell_type": "code",
   "execution_count": 18,
   "metadata": {},
   "outputs": [
    {
     "name": "stdout",
     "output_type": "stream",
     "text": [
      "[ 0.  5. 10. 15. 20.]\n"
     ]
    }
   ],
   "source": [
    "arr = np.linspace(0,20, num=5)\n",
    "print(arr)"
   ]
  },
  {
   "cell_type": "markdown",
   "metadata": {},
   "source": [
    "### Create NumPy Arrays with Random Numbers "
   ]
  },
  {
   "cell_type": "markdown",
   "metadata": {},
   "source": [
    "#### rand() function :"
   ]
  },
  {
   "cell_type": "code",
   "execution_count": 19,
   "metadata": {},
   "outputs": [
    {
     "name": "stdout",
     "output_type": "stream",
     "text": [
      "[0.45133584 0.48206136 0.36366039]\n",
      "\n",
      "[[0.41612686 0.41159216 0.58838005 0.64022086]\n",
      " [0.98214297 0.09085166 0.80212031 0.2371402 ]\n",
      " [0.35204041 0.55148465 0.14859585 0.58648801]\n",
      " [0.91238342 0.01038522 0.27244563 0.44270993]]\n"
     ]
    }
   ],
   "source": [
    "# this function is used to generate random values between 0 & 1 \n",
    "\n",
    "arr1 = np.random.rand(3)\n",
    "print(arr1)\n",
    "\n",
    "print()\n",
    "\n",
    "arr2 = np.random.rand(4,4)\n",
    "print(arr2)"
   ]
  },
  {
   "cell_type": "markdown",
   "metadata": {},
   "source": [
    "#### randn() function :"
   ]
  },
  {
   "cell_type": "code",
   "execution_count": 20,
   "metadata": {},
   "outputs": [
    {
     "name": "stdout",
     "output_type": "stream",
     "text": [
      "[-0.09818897  1.42464675  0.46444793]\n",
      "\n",
      "[[-0.59927328 -0.36228516  1.30963902  0.1376807 ]\n",
      " [ 1.77362896  0.28293462 -0.73029455  0.49292967]\n",
      " [ 0.48958257  0.62862065 -0.84953814  0.24720475]\n",
      " [ 1.08126415 -0.67572024  1.07250866  2.05227975]]\n"
     ]
    }
   ],
   "source": [
    "# this function is used to generate random values close to zero (this may return both positive & negative)\n",
    "\n",
    "arr1 = np.random.randn(3)\n",
    "print(arr1)\n",
    "\n",
    "print()\n",
    "\n",
    "arr2 = np.random.randn(4,4)\n",
    "print(arr2)"
   ]
  },
  {
   "cell_type": "markdown",
   "metadata": {},
   "source": [
    "#### ranf() function :"
   ]
  },
  {
   "cell_type": "code",
   "execution_count": 21,
   "metadata": {},
   "outputs": [
    {
     "name": "stdout",
     "output_type": "stream",
     "text": [
      "[0.23640615 0.31866515 0.20172012 0.23643697 0.41242991]\n"
     ]
    }
   ],
   "source": [
    "# this function is used for doing random sampling in numpy\n",
    "# It returns an array of specified shape and fills it with random floats in the half-open interval [0.0, 1.0)\n",
    "\n",
    "arr1 = np.random.ranf(5)\n",
    "print(arr1)"
   ]
  },
  {
   "cell_type": "markdown",
   "metadata": {},
   "source": [
    "#### randint() function : "
   ]
  },
  {
   "cell_type": "code",
   "execution_count": 22,
   "metadata": {},
   "outputs": [
    {
     "name": "stdout",
     "output_type": "stream",
     "text": [
      "[5 4 3 5]\n"
     ]
    }
   ],
   "source": [
    "# this function is used to generate a random number between any particular given range\n",
    "\n",
    "arr2 = np.random.randint(1,7,4) # np.random.randint(min_value, max_value, total_values_between_them)\n",
    "print(arr2)"
   ]
  },
  {
   "cell_type": "markdown",
   "metadata": {},
   "source": [
    "### Get Data Type"
   ]
  },
  {
   "cell_type": "code",
   "execution_count": 23,
   "metadata": {},
   "outputs": [
    {
     "name": "stdout",
     "output_type": "stream",
     "text": [
      "Data Type :  int32\n",
      "Data Type :  int64\n",
      "Data Type :  float64\n",
      "Data Type :  <U1\n",
      "Data Type :  <U32\n"
     ]
    }
   ],
   "source": [
    "# integer datatype\n",
    "arr1 = np.array([1,2,3,4,5,6])\n",
    "print(\"Data Type : \", arr1.dtype)\n",
    "\n",
    "arr_1 = np.array([21548956412,54896874654,4587651684])\n",
    "print(\"Data Type : \", arr_1.dtype)\n",
    "\n",
    "# float datatype\n",
    "arr2 = np.array([0.1, 1.1, 2.1, 3.3])\n",
    "print(\"Data Type : \", arr2.dtype)\n",
    "\n",
    "# string datatype\n",
    "arr3 = np.array(['m','a','r','d','a','v'])\n",
    "print(\"Data Type : \", arr3.dtype)\n",
    "\n",
    "# mixed (LGTV HD+)\n",
    "arr4 = np.array(['i', 13, \"punch\", 52.3])\n",
    "print(\"Data Type : \", arr4.dtype)"
   ]
  },
  {
   "cell_type": "markdown",
   "metadata": {},
   "source": [
    "### Converting data types"
   ]
  },
  {
   "cell_type": "code",
   "execution_count": 24,
   "metadata": {},
   "outputs": [
    {
     "name": "stdout",
     "output_type": "stream",
     "text": [
      "Data Type of [1 2 3 4 5] : int32\n",
      "Data Type of [1 2 3 4 5] : int16\n",
      "Data type of [1 2 3 4 5] : int64\n"
     ]
    }
   ],
   "source": [
    "arr1 = np.array([1,2,3,4,5])\n",
    "print(\"Data Type of\",arr1,\":\", arr1.dtype)\n",
    "\n",
    "arr2 = np.array([1,2,3,4,5], dtype = np.int16)\n",
    "print(\"Data Type of\",arr2,\":\", arr2.dtype)\n",
    "\n",
    "arr3 = np.array([1,2,3,4,5], dtype = np.int64)\n",
    "print(\"Data type of\",arr3,\":\", arr3.dtype)"
   ]
  },
  {
   "cell_type": "markdown",
   "metadata": {},
   "source": [
    "### Converting integer to float values "
   ]
  },
  {
   "cell_type": "code",
   "execution_count": 25,
   "metadata": {},
   "outputs": [
    {
     "name": "stdout",
     "output_type": "stream",
     "text": [
      "[12.  2. 13.  5.  7.]\n",
      "Data Type : float32\n",
      "\n",
      "[b'1' b'3' b'5' b'7' b'9']\n",
      "Data Type :  |S1\n"
     ]
    }
   ],
   "source": [
    "arr = np.array([12,2,13,5,7], dtype = \"f\")\n",
    "print(arr)\n",
    "print(\"Data Type :\", arr.dtype)\n",
    "\n",
    "print()\n",
    "\n",
    "arr1 = np.array([1,3,5,7,9], dtype = \"S\")\n",
    "print(arr1)\n",
    "print(\"Data Type : \", arr1.dtype)\n",
    "\n",
    "# List of characters that are used to represent dtype :\n",
    "\n",
    "# b - boolean\n",
    "# c - complex float\n",
    "# f - float  \n",
    "# i - integer  \n",
    "# m - timedelta\n",
    "# M - datetime\n",
    "# O - object \n",
    "# S - string\n",
    "# u - unsigned integer\n",
    "# U - Unicode string "
   ]
  },
  {
   "cell_type": "markdown",
   "metadata": {},
   "source": [
    "### Converting using functions "
   ]
  },
  {
   "cell_type": "code",
   "execution_count": 26,
   "metadata": {},
   "outputs": [
    {
     "name": "stdout",
     "output_type": "stream",
     "text": [
      "[1 3 5 7 9]\n",
      "Data Type : int32\n",
      "\n",
      "[1. 3. 5. 7. 9.]\n",
      "Data Type : float32\n",
      "\n",
      "[ True  True  True  True  True]\n",
      "Data Type : bool\n"
     ]
    }
   ],
   "source": [
    "arr = np.array([1,3,5,7,9])\n",
    "new_arr = np.float32(arr)\n",
    "new_new_arr = np.bool_(arr)\n",
    "\n",
    "print(arr)\n",
    "print(\"Data Type :\", arr.dtype)\n",
    "\n",
    "print()\n",
    "\n",
    "print(new_arr)\n",
    "print(\"Data Type :\", new_arr.dtype)\n",
    "\n",
    "print()\n",
    "\n",
    "print(new_new_arr)\n",
    "print(\"Data Type :\", new_new_arr.dtype)"
   ]
  },
  {
   "cell_type": "markdown",
   "metadata": {},
   "source": [
    "### Arithmetic Operations "
   ]
  },
  {
   "cell_type": "markdown",
   "metadata": {},
   "source": [
    "#### Addition (a+b) :"
   ]
  },
  {
   "cell_type": "code",
   "execution_count": 27,
   "metadata": {},
   "outputs": [
    {
     "name": "stdout",
     "output_type": "stream",
     "text": [
      "[4 5 6 7 8]\n",
      "\n",
      "[ 2  4  6  8 10]\n"
     ]
    }
   ],
   "source": [
    "arr = np.array([1,2,3,4,5])\n",
    "add = arr + 3 \n",
    "print(add)\n",
    "\n",
    "print()\n",
    "\n",
    "arr1 = np.array([1,2,3,4,5])\n",
    "arr2 = np.array([1,2,3,4,5])\n",
    "adds = np.add(arr1, arr2) \n",
    "print(adds)"
   ]
  },
  {
   "cell_type": "markdown",
   "metadata": {},
   "source": [
    "#### Subtraction (a-b) :"
   ]
  },
  {
   "cell_type": "code",
   "execution_count": 28,
   "metadata": {},
   "outputs": [
    {
     "name": "stdout",
     "output_type": "stream",
     "text": [
      "[-2 -1  0  1  2]\n",
      "\n",
      "[0 0 0 0 0]\n"
     ]
    }
   ],
   "source": [
    "arr = np.array([1,2,3,4,5])\n",
    "sub = arr - 3 \n",
    "print(sub)\n",
    "\n",
    "print()\n",
    "\n",
    "arr1 = np.array([1,2,3,4,5])\n",
    "arr2 = np.array([1,2,3,4,5])\n",
    "subs = np.subtract(arr1, arr2) \n",
    "print(subs)"
   ]
  },
  {
   "cell_type": "markdown",
   "metadata": {},
   "source": [
    "#### Multiplication (a*b) :"
   ]
  },
  {
   "cell_type": "code",
   "execution_count": 29,
   "metadata": {},
   "outputs": [
    {
     "name": "stdout",
     "output_type": "stream",
     "text": [
      "[ 3  6  9 12 15]\n",
      "\n",
      "[ 1  4  9 16 25]\n"
     ]
    }
   ],
   "source": [
    "arr = np.array([1,2,3,4,5])\n",
    "mul = arr * 3 \n",
    "print(mul)\n",
    "\n",
    "print()\n",
    "\n",
    "arr1 = np.array([1,2,3,4,5])\n",
    "arr2 = np.array([1,2,3,4,5])\n",
    "mult = np.multiply(arr1, arr2) \n",
    "print(mult)"
   ]
  },
  {
   "cell_type": "markdown",
   "metadata": {},
   "source": [
    "#### Division (a/b) :"
   ]
  },
  {
   "cell_type": "code",
   "execution_count": 30,
   "metadata": {},
   "outputs": [
    {
     "name": "stdout",
     "output_type": "stream",
     "text": [
      "[0.5 1.  1.5 2.  2.5]\n",
      "\n",
      "[1. 1. 1. 1. 1.]\n"
     ]
    }
   ],
   "source": [
    "arr = np.array([1,2,3,4,5])\n",
    "div = arr / 2 \n",
    "print(div)\n",
    "\n",
    "print()\n",
    "\n",
    "arr1 = np.array([1,2,3,4,5])\n",
    "arr2 = np.array([1,2,3,4,5])\n",
    "divs = np.divide(arr1, arr2) \n",
    "print(divs)"
   ]
  },
  {
   "cell_type": "markdown",
   "metadata": {},
   "source": [
    "#### Modulus (a%b) :"
   ]
  },
  {
   "cell_type": "code",
   "execution_count": 31,
   "metadata": {},
   "outputs": [
    {
     "name": "stdout",
     "output_type": "stream",
     "text": [
      "[1 0 1 0 1]\n",
      "\n",
      "[0 0 0 0 0]\n"
     ]
    }
   ],
   "source": [
    "arr = np.array([1,2,3,4,5])\n",
    "mod = arr % 2 \n",
    "print(mod)\n",
    "\n",
    "print()\n",
    "\n",
    "arr1 = np.array([1,2,3,4,5])\n",
    "arr2 = np.array([1,2,3,4,5])\n",
    "mods = np.mod(arr1, arr2) \n",
    "print(mods)"
   ]
  },
  {
   "cell_type": "markdown",
   "metadata": {},
   "source": [
    "#### Power (a**b) :"
   ]
  },
  {
   "cell_type": "code",
   "execution_count": 32,
   "metadata": {},
   "outputs": [
    {
     "name": "stdout",
     "output_type": "stream",
     "text": [
      "[ 1  4  9 16 25]\n",
      "\n",
      "[   1    4   27  256 3125]\n"
     ]
    }
   ],
   "source": [
    "arr = np.array([1,2,3,4,5])\n",
    "pow = arr ** 2 \n",
    "print(pow)\n",
    "\n",
    "print()\n",
    "\n",
    "arr1 = np.array([1,2,3,4,5])\n",
    "arr2 = np.array([1,2,3,4,5])\n",
    "pows = np.power(arr1, arr2) \n",
    "print(pows)"
   ]
  },
  {
   "cell_type": "markdown",
   "metadata": {},
   "source": [
    "#### Reciprocal (1/a) :"
   ]
  },
  {
   "cell_type": "code",
   "execution_count": 33,
   "metadata": {},
   "outputs": [
    {
     "name": "stdout",
     "output_type": "stream",
     "text": [
      "[1.         0.5        0.33333333 0.25       0.2       ]\n",
      "\n",
      "[1 0 0 0 0]\n"
     ]
    }
   ],
   "source": [
    "arr = np.array([1,2,3,4,5])\n",
    "rec = 1 / arr \n",
    "print(rec)\n",
    "\n",
    "print()\n",
    "\n",
    "arr1 = np.array([1,2,3,4,5])\n",
    "recp = np.reciprocal(arr1) \n",
    "print(recp)"
   ]
  },
  {
   "cell_type": "markdown",
   "metadata": {},
   "source": [
    "### Arithmetic Functions "
   ]
  },
  {
   "cell_type": "markdown",
   "metadata": {},
   "source": [
    "#### Minimum (min) :"
   ]
  },
  {
   "cell_type": "code",
   "execution_count": 44,
   "metadata": {},
   "outputs": [
    {
     "name": "stdout",
     "output_type": "stream",
     "text": [
      "Minimum number: 1\n",
      "Position : 6\n",
      "\n",
      "Minimum numbers from each column : [2 1 3 5 7]\n",
      "Minimum numbers from each row : [2 1]\n"
     ]
    }
   ],
   "source": [
    "arr = np.array([[2,4,6,8,13],[5,1,3,5,7]])\n",
    "\n",
    "print(\"Minimum number:\", np.min(arr))\n",
    "print(\"Position :\", np.argmin(arr))\n",
    "\n",
    "print() \n",
    "\n",
    "print(\"Minimum numbers from each column :\", np.min(arr, axis = 0)) # for column\n",
    "print(\"Minimum numbers from each row :\", np.min(arr, axis = 1)) # for row "
   ]
  },
  {
   "cell_type": "markdown",
   "metadata": {},
   "source": [
    "#### Maximum (max) :"
   ]
  },
  {
   "cell_type": "code",
   "execution_count": 46,
   "metadata": {},
   "outputs": [
    {
     "name": "stdout",
     "output_type": "stream",
     "text": [
      "Maximum number: 13\n",
      "Position : 4\n",
      "\n",
      "Maximum numbers from each column : [ 5  4  6  8 13]\n",
      "Maximum numbers from each row : [13  7]\n"
     ]
    }
   ],
   "source": [
    "arr = np.array([[2,4,6,8,13],[5,1,3,5,7]])\n",
    "\n",
    "print(\"Maximum number:\", np.max(arr))\n",
    "print(\"Position :\", np.argmax(arr))\n",
    "\n",
    "print()\n",
    "\n",
    "print(\"Maximum numbers from each column :\", np.max(arr, axis = 0)) # for column \n",
    "print(\"Maximum numbers from each row :\", np.max(arr, axis = 1)) # for row "
   ]
  },
  {
   "cell_type": "markdown",
   "metadata": {},
   "source": [
    "#### Square root (sqrt) :"
   ]
  },
  {
   "cell_type": "code",
   "execution_count": 47,
   "metadata": {},
   "outputs": [
    {
     "name": "stdout",
     "output_type": "stream",
     "text": [
      "Square root : [ 2.  3.  8. 12. 15. 30.]\n"
     ]
    }
   ],
   "source": [
    "arr = ([4,9,64,144,225,900])\n",
    "\n",
    "print(\"Square root :\", np.sqrt(arr))"
   ]
  },
  {
   "cell_type": "markdown",
   "metadata": {},
   "source": [
    "#### sin & cos values : "
   ]
  },
  {
   "cell_type": "code",
   "execution_count": 48,
   "metadata": {},
   "outputs": [
    {
     "name": "stdout",
     "output_type": "stream",
     "text": [
      "sin values : [ 0.          0.84147098 -0.2794155   0.41211849  0.42016704]\n",
      "\n",
      "cos values : [-0.65364362 -0.91113026  0.39185723  0.8711474   0.36731937  0.0662467 ]\n"
     ]
    }
   ],
   "source": [
    "arr1 = np.array([0,1,6,9,13])\n",
    "print(\"sin values :\", np.sin(arr1))\n",
    "\n",
    "print() \n",
    "\n",
    "arr2 = np.array([0,1,3,7,11])\n",
    "print(\"cos values :\", np.cos(arr))"
   ]
  },
  {
   "cell_type": "markdown",
   "metadata": {},
   "source": [
    "#### Cumulative Sum (cumsum) :"
   ]
  },
  {
   "cell_type": "code",
   "execution_count": 49,
   "metadata": {},
   "outputs": [
    {
     "name": "stdout",
     "output_type": "stream",
     "text": [
      "Cumulative sum : [ 1  3  6 10 15]\n"
     ]
    }
   ],
   "source": [
    "arr = np.array([1,2,3,4,5]) # cumsum process - [1, 1+2, 1+2+3, 1+2+3+4, 1+2+3+4+5]\n",
    "\n",
    "print(\"Cumulative sum :\", np.cumsum(arr))"
   ]
  },
  {
   "cell_type": "code",
   "execution_count": null,
   "metadata": {},
   "outputs": [],
   "source": []
  }
 ],
 "metadata": {
  "kernelspec": {
   "display_name": "Python 3",
   "language": "python",
   "name": "python3"
  },
  "language_info": {
   "codemirror_mode": {
    "name": "ipython",
    "version": 3
   },
   "file_extension": ".py",
   "mimetype": "text/x-python",
   "name": "python",
   "nbconvert_exporter": "python",
   "pygments_lexer": "ipython3",
   "version": "3.12.1"
  }
 },
 "nbformat": 4,
 "nbformat_minor": 2
}
