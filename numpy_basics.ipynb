{
 "cells": [
  {
   "cell_type": "markdown",
   "metadata": {},
   "source": [
    "### Load in NumPy"
   ]
  },
  {
   "cell_type": "code",
   "execution_count": 2,
   "metadata": {},
   "outputs": [],
   "source": [
    "import numpy as np "
   ]
  },
  {
   "cell_type": "markdown",
   "metadata": {},
   "source": [
    "### Create a NumPy Array "
   ]
  },
  {
   "cell_type": "code",
   "execution_count": 3,
   "metadata": {},
   "outputs": [
    {
     "name": "stdout",
     "output_type": "stream",
     "text": [
      "[1 3 5 7 9]\n",
      "<class 'numpy.ndarray'>\n"
     ]
    }
   ],
   "source": [
    "arr = np.array([1,3,5,7,9])\n",
    "print(arr)\n",
    "print(type(arr))"
   ]
  },
  {
   "cell_type": "markdown",
   "metadata": {},
   "source": [
    "### Create a Python List"
   ]
  },
  {
   "cell_type": "code",
   "execution_count": 4,
   "metadata": {},
   "outputs": [
    {
     "name": "stdout",
     "output_type": "stream",
     "text": [
      "[1, 3, 5, 7, 9]\n",
      "<class 'list'>\n"
     ]
    }
   ],
   "source": [
    "li = [1,3,5,7,9]\n",
    "print(li)\n",
    "print(type(li))"
   ]
  },
  {
   "cell_type": "markdown",
   "metadata": {},
   "source": [
    "### Calculate the execution time in NumPy Array"
   ]
  },
  {
   "cell_type": "code",
   "execution_count": 5,
   "metadata": {},
   "outputs": [
    {
     "name": "stdout",
     "output_type": "stream",
     "text": [
      "3.48 µs ± 537 ns per loop (mean ± std. dev. of 7 runs, 100,000 loops each)\n"
     ]
    }
   ],
   "source": [
    "%timeit np.arange(1,7)**3"
   ]
  },
  {
   "cell_type": "markdown",
   "metadata": {},
   "source": [
    "### Calculate the execution time in Python List "
   ]
  },
  {
   "cell_type": "code",
   "execution_count": 6,
   "metadata": {},
   "outputs": [
    {
     "name": "stdout",
     "output_type": "stream",
     "text": [
      "702 ns ± 99.5 ns per loop (mean ± std. dev. of 7 runs, 1,000,000 loops each)\n"
     ]
    }
   ],
   "source": [
    "%timeit [i**3 for i in range(1,7)]"
   ]
  },
  {
   "cell_type": "markdown",
   "metadata": {},
   "source": [
    "### Get the Dimension "
   ]
  },
  {
   "cell_type": "code",
   "execution_count": 7,
   "metadata": {},
   "outputs": [
    {
     "name": "stdout",
     "output_type": "stream",
     "text": [
      "[2 4 6 8]\n",
      "1\n",
      "\n",
      "[[2 4 6 8]\n",
      " [1 3 5 7]]\n",
      "2\n"
     ]
    }
   ],
   "source": [
    "arr1 = np.array([2,4,6,8])\n",
    "print(arr1)\n",
    "print(arr1.ndim)\n",
    "\n",
    "print()\n",
    "\n",
    "arr2 = np.array([[2,4,6,8],[1,3,5,7]])\n",
    "print(arr2)\n",
    "print(arr2.ndim)"
   ]
  },
  {
   "cell_type": "markdown",
   "metadata": {},
   "source": [
    "### Create a three dimensional array "
   ]
  },
  {
   "cell_type": "code",
   "execution_count": 8,
   "metadata": {},
   "outputs": [
    {
     "name": "stdout",
     "output_type": "stream",
     "text": [
      "[[[1 2 3 4]\n",
      "  [3 4 5 6]\n",
      "  [5 6 7 8]]]\n",
      "\n",
      "3\n"
     ]
    }
   ],
   "source": [
    "arr = np.array([[[1,2,3,4],[3,4,5,6],[5,6,7,8]]])\n",
    "print(arr)\n",
    "print()\n",
    "print(arr.ndim)"
   ]
  },
  {
   "cell_type": "markdown",
   "metadata": {},
   "source": [
    "### Create a ten dimensional array "
   ]
  },
  {
   "cell_type": "code",
   "execution_count": 9,
   "metadata": {},
   "outputs": [
    {
     "name": "stdout",
     "output_type": "stream",
     "text": [
      "[[[[[[[[[[10 20 30 40]]]]]]]]]]\n",
      "\n",
      "10\n"
     ]
    }
   ],
   "source": [
    "arr = np.array([10,20,30,40], ndmin = 10)\n",
    "print(arr)\n",
    "\n",
    "print()\n",
    "\n",
    "print(arr.ndim)"
   ]
  },
  {
   "cell_type": "markdown",
   "metadata": {},
   "source": [
    "### Create an array filled with zeros"
   ]
  },
  {
   "cell_type": "code",
   "execution_count": 10,
   "metadata": {},
   "outputs": [
    {
     "name": "stdout",
     "output_type": "stream",
     "text": [
      "[0. 0. 0. 0. 0.]\n",
      "\n",
      "[[0. 0. 0.]\n",
      " [0. 0. 0.]\n",
      " [0. 0. 0.]]\n"
     ]
    }
   ],
   "source": [
    "arr_z = np.zeros(5)\n",
    "arr_z1 = np.zeros((3,3))\n",
    "\n",
    "print(arr_z)\n",
    "print()\n",
    "print(arr_z1)"
   ]
  },
  {
   "cell_type": "markdown",
   "metadata": {},
   "source": [
    "### Create an array filled with ones"
   ]
  },
  {
   "cell_type": "code",
   "execution_count": 11,
   "metadata": {},
   "outputs": [
    {
     "name": "stdout",
     "output_type": "stream",
     "text": [
      "[1. 1. 1. 1. 1.]\n",
      "\n",
      "[[1. 1. 1.]\n",
      " [1. 1. 1.]\n",
      " [1. 1. 1.]\n",
      " [1. 1. 1.]]\n"
     ]
    }
   ],
   "source": [
    "arr_o = np.ones(5)\n",
    "arr_o1 = np.ones((4,3))\n",
    "\n",
    "print(arr_o)\n",
    "print()\n",
    "print(arr_o1)"
   ]
  },
  {
   "cell_type": "markdown",
   "metadata": {},
   "source": [
    "### Create an empty array "
   ]
  },
  {
   "cell_type": "code",
   "execution_count": 12,
   "metadata": {},
   "outputs": [
    {
     "name": "stdout",
     "output_type": "stream",
     "text": [
      "[1. 1. 1. 1. 1.]\n"
     ]
    }
   ],
   "source": [
    "arr_e = np.empty(5)\n",
    "print(arr_e)\n",
    "# the empty array automatically recalls the previous memory's data ! "
   ]
  },
  {
   "cell_type": "markdown",
   "metadata": {},
   "source": [
    "### Create an ordered array "
   ]
  },
  {
   "cell_type": "code",
   "execution_count": 13,
   "metadata": {},
   "outputs": [
    {
     "name": "stdout",
     "output_type": "stream",
     "text": [
      "[0 1 2 3 4 5 6 7]\n"
     ]
    }
   ],
   "source": [
    "arr = np.arange((8))\n",
    "print(arr)"
   ]
  },
  {
   "cell_type": "markdown",
   "metadata": {},
   "source": [
    "### Create an array containing ones in diagonal "
   ]
  },
  {
   "cell_type": "code",
   "execution_count": 14,
   "metadata": {},
   "outputs": [
    {
     "name": "stdout",
     "output_type": "stream",
     "text": [
      "[[1. 0. 0. 0.]\n",
      " [0. 1. 0. 0.]\n",
      " [0. 0. 1. 0.]\n",
      " [0. 0. 0. 1.]]\n"
     ]
    }
   ],
   "source": [
    "arr = np.eye(4,4)\n",
    "print(arr)"
   ]
  },
  {
   "cell_type": "markdown",
   "metadata": {},
   "source": [
    "### Use of linspace in an array "
   ]
  },
  {
   "cell_type": "code",
   "execution_count": 15,
   "metadata": {},
   "outputs": [
    {
     "name": "stdout",
     "output_type": "stream",
     "text": [
      "[ 0.  5. 10. 15. 20.]\n"
     ]
    }
   ],
   "source": [
    "arr = np.linspace(0,20, num=5)\n",
    "print(arr)"
   ]
  },
  {
   "cell_type": "markdown",
   "metadata": {},
   "source": [
    "### Create NumPy Arrays with Random Numbers "
   ]
  },
  {
   "cell_type": "markdown",
   "metadata": {},
   "source": [
    "#### rand() function :"
   ]
  },
  {
   "cell_type": "code",
   "execution_count": 16,
   "metadata": {},
   "outputs": [
    {
     "name": "stdout",
     "output_type": "stream",
     "text": [
      "[0.70306896 0.12775875 0.08860268]\n",
      "\n",
      "[[0.98817747 0.23175679 0.14148608 0.5883455 ]\n",
      " [0.02833848 0.06474989 0.75713043 0.70042489]\n",
      " [0.78880221 0.20717992 0.52782542 0.64124293]\n",
      " [0.99605194 0.82750486 0.4668981  0.88604614]]\n"
     ]
    }
   ],
   "source": [
    "# this function is used to generate random values between 0 & 1 \n",
    "\n",
    "arr1 = np.random.rand(3)\n",
    "print(arr1)\n",
    "\n",
    "print()\n",
    "\n",
    "arr2 = np.random.rand(4,4)\n",
    "print(arr2)"
   ]
  },
  {
   "cell_type": "markdown",
   "metadata": {},
   "source": [
    "#### randn() function :"
   ]
  },
  {
   "cell_type": "code",
   "execution_count": 17,
   "metadata": {},
   "outputs": [
    {
     "name": "stdout",
     "output_type": "stream",
     "text": [
      "[ 0.47932631  0.98579591 -0.22115582]\n",
      "\n",
      "[[ 0.51546653  0.71829469  1.44444341  0.97700917]\n",
      " [ 0.89949117 -0.55902678  0.43404754  0.59585905]\n",
      " [-1.79487249 -1.40750242  0.39952788 -0.50334954]\n",
      " [ 0.62998877 -0.50429549 -0.7013177  -0.01946918]]\n"
     ]
    }
   ],
   "source": [
    "# this function is used to generate random values close to zero (this may return both positive & negative)\n",
    "\n",
    "arr1 = np.random.randn(3)\n",
    "print(arr1)\n",
    "\n",
    "print()\n",
    "\n",
    "arr2 = np.random.randn(4,4)\n",
    "print(arr2)"
   ]
  },
  {
   "cell_type": "markdown",
   "metadata": {},
   "source": [
    "#### ranf() function :"
   ]
  },
  {
   "cell_type": "code",
   "execution_count": 18,
   "metadata": {},
   "outputs": [
    {
     "name": "stdout",
     "output_type": "stream",
     "text": [
      "[0.51333409 0.16458505 0.59985913 0.23086351 0.7245144 ]\n"
     ]
    }
   ],
   "source": [
    "# this function is used for doing random sampling in numpy\n",
    "# It returns an array of specified shape and fills it with random floats in the half-open interval [0.0, 1.0)\n",
    "\n",
    "arr1 = np.random.ranf(5)\n",
    "print(arr1)"
   ]
  },
  {
   "cell_type": "markdown",
   "metadata": {},
   "source": [
    "#### randint() function : "
   ]
  },
  {
   "cell_type": "code",
   "execution_count": 19,
   "metadata": {},
   "outputs": [
    {
     "name": "stdout",
     "output_type": "stream",
     "text": [
      "[3 4 1 4]\n"
     ]
    }
   ],
   "source": [
    "# this function is used to generate a random number between any particular given range\n",
    "\n",
    "arr2 = np.random.randint(1,7,4) # np.random.randint(min_value, max_value, total_values_between_them)\n",
    "print(arr2)"
   ]
  },
  {
   "cell_type": "markdown",
   "metadata": {},
   "source": [
    "### Get Data Type"
   ]
  },
  {
   "cell_type": "code",
   "execution_count": 20,
   "metadata": {},
   "outputs": [
    {
     "name": "stdout",
     "output_type": "stream",
     "text": [
      "Data Type :  int32\n",
      "Data Type :  int64\n",
      "Data Type :  float64\n",
      "Data Type :  <U1\n",
      "Data Type :  <U32\n"
     ]
    }
   ],
   "source": [
    "# integer datatype\n",
    "arr1 = np.array([1,2,3,4,5,6])\n",
    "print(\"Data Type : \", arr1.dtype)\n",
    "\n",
    "arr_1 = np.array([21548956412,54896874654,4587651684])\n",
    "print(\"Data Type : \", arr_1.dtype)\n",
    "\n",
    "# float datatype\n",
    "arr2 = np.array([0.1, 1.1, 2.1, 3.3])\n",
    "print(\"Data Type : \", arr2.dtype)\n",
    "\n",
    "# string datatype\n",
    "arr3 = np.array(['m','a','r','d','a','v'])\n",
    "print(\"Data Type : \", arr3.dtype)\n",
    "\n",
    "# mixed (LGTV HD+)\n",
    "arr4 = np.array(['i', 13, \"punch\", 52.3])\n",
    "print(\"Data Type : \", arr4.dtype)"
   ]
  },
  {
   "cell_type": "markdown",
   "metadata": {},
   "source": [
    "### Converting data types"
   ]
  },
  {
   "cell_type": "code",
   "execution_count": 21,
   "metadata": {},
   "outputs": [
    {
     "name": "stdout",
     "output_type": "stream",
     "text": [
      "Data Type of [1 2 3 4 5] : int32\n",
      "Data Type of [1 2 3 4 5] : int16\n",
      "Data type of [1 2 3 4 5] : int64\n"
     ]
    }
   ],
   "source": [
    "arr1 = np.array([1,2,3,4,5])\n",
    "print(\"Data Type of\",arr1,\":\", arr1.dtype)\n",
    "\n",
    "arr2 = np.array([1,2,3,4,5], dtype = np.int16)\n",
    "print(\"Data Type of\",arr2,\":\", arr2.dtype)\n",
    "\n",
    "arr3 = np.array([1,2,3,4,5], dtype = np.int64)\n",
    "print(\"Data type of\",arr3,\":\", arr3.dtype)"
   ]
  },
  {
   "cell_type": "markdown",
   "metadata": {},
   "source": [
    "### Converting integer to float values "
   ]
  },
  {
   "cell_type": "code",
   "execution_count": 22,
   "metadata": {},
   "outputs": [
    {
     "name": "stdout",
     "output_type": "stream",
     "text": [
      "[12.  2. 13.  5.  7.]\n",
      "Data Type : float32\n",
      "\n",
      "[b'1' b'3' b'5' b'7' b'9']\n",
      "Data Type :  |S1\n"
     ]
    }
   ],
   "source": [
    "arr = np.array([12,2,13,5,7], dtype = \"f\")\n",
    "print(arr)\n",
    "print(\"Data Type :\", arr.dtype)\n",
    "\n",
    "print()\n",
    "\n",
    "arr1 = np.array([1,3,5,7,9], dtype = \"S\")\n",
    "print(arr1)\n",
    "print(\"Data Type : \", arr1.dtype)\n",
    "\n",
    "# List of characters that are used to represent dtype :\n",
    "\n",
    "# b - boolean\n",
    "# c - complex float\n",
    "# f - float  \n",
    "# i - integer  \n",
    "# m - timedelta\n",
    "# M - datetime\n",
    "# O - object \n",
    "# S - string\n",
    "# u - unsigned integer\n",
    "# U - Unicode string "
   ]
  },
  {
   "cell_type": "markdown",
   "metadata": {},
   "source": [
    "### Converting using functions "
   ]
  },
  {
   "cell_type": "code",
   "execution_count": 23,
   "metadata": {},
   "outputs": [
    {
     "name": "stdout",
     "output_type": "stream",
     "text": [
      "[1 3 5 7 9]\n",
      "Data Type : int32\n",
      "\n",
      "[1. 3. 5. 7. 9.]\n",
      "Data Type : float32\n",
      "\n",
      "[ True  True  True  True  True]\n",
      "Data Type : bool\n"
     ]
    }
   ],
   "source": [
    "arr = np.array([1,3,5,7,9])\n",
    "new_arr = np.float32(arr)\n",
    "new_new_arr = np.bool_(arr)\n",
    "\n",
    "print(arr)\n",
    "print(\"Data Type :\", arr.dtype)\n",
    "\n",
    "print()\n",
    "\n",
    "print(new_arr)\n",
    "print(\"Data Type :\", new_arr.dtype)\n",
    "\n",
    "print()\n",
    "\n",
    "print(new_new_arr)\n",
    "print(\"Data Type :\", new_new_arr.dtype)"
   ]
  },
  {
   "cell_type": "markdown",
   "metadata": {},
   "source": [
    "### Arithmetic Operations "
   ]
  },
  {
   "cell_type": "markdown",
   "metadata": {},
   "source": [
    "#### Addition (a+b) :"
   ]
  },
  {
   "cell_type": "code",
   "execution_count": 26,
   "metadata": {},
   "outputs": [
    {
     "name": "stdout",
     "output_type": "stream",
     "text": [
      "[4 5 6 7 8]\n",
      "\n",
      "[ 2  4  6  8 10]\n"
     ]
    }
   ],
   "source": [
    "arr = np.array([1,2,3,4,5])\n",
    "add = arr + 3 \n",
    "print(add)\n",
    "\n",
    "print()\n",
    "\n",
    "arr1 = np.array([1,2,3,4,5])\n",
    "arr2 = np.array([1,2,3,4,5])\n",
    "adds = np.add(arr1, arr2) \n",
    "print(adds)"
   ]
  },
  {
   "cell_type": "markdown",
   "metadata": {},
   "source": [
    "#### Subtraction (a-b) :"
   ]
  },
  {
   "cell_type": "code",
   "execution_count": 34,
   "metadata": {},
   "outputs": [
    {
     "name": "stdout",
     "output_type": "stream",
     "text": [
      "[-2 -1  0  1  2]\n",
      "\n",
      "[0 0 0 0 0]\n"
     ]
    }
   ],
   "source": [
    "arr = np.array([1,2,3,4,5])\n",
    "sub = arr - 3 \n",
    "print(sub)\n",
    "\n",
    "print()\n",
    "\n",
    "arr1 = np.array([1,2,3,4,5])\n",
    "arr2 = np.array([1,2,3,4,5])\n",
    "subs = np.subtract(arr1, arr2) \n",
    "print(subs)"
   ]
  },
  {
   "cell_type": "markdown",
   "metadata": {},
   "source": [
    "#### Multiplication (a*b) :"
   ]
  },
  {
   "cell_type": "code",
   "execution_count": 35,
   "metadata": {},
   "outputs": [
    {
     "name": "stdout",
     "output_type": "stream",
     "text": [
      "[ 3  6  9 12 15]\n",
      "\n",
      "[ 1  4  9 16 25]\n"
     ]
    }
   ],
   "source": [
    "arr = np.array([1,2,3,4,5])\n",
    "mul = arr * 3 \n",
    "print(mul)\n",
    "\n",
    "print()\n",
    "\n",
    "arr1 = np.array([1,2,3,4,5])\n",
    "arr2 = np.array([1,2,3,4,5])\n",
    "mult = np.multiply(arr1, arr2) \n",
    "print(mult)"
   ]
  },
  {
   "cell_type": "markdown",
   "metadata": {},
   "source": [
    "#### Division (a/b) :"
   ]
  },
  {
   "cell_type": "code",
   "execution_count": 36,
   "metadata": {},
   "outputs": [
    {
     "name": "stdout",
     "output_type": "stream",
     "text": [
      "[0.5 1.  1.5 2.  2.5]\n",
      "\n",
      "[1. 1. 1. 1. 1.]\n"
     ]
    }
   ],
   "source": [
    "arr = np.array([1,2,3,4,5])\n",
    "div = arr / 2 \n",
    "print(div)\n",
    "\n",
    "print()\n",
    "\n",
    "arr1 = np.array([1,2,3,4,5])\n",
    "arr2 = np.array([1,2,3,4,5])\n",
    "divs = np.divide(arr1, arr2) \n",
    "print(divs)"
   ]
  },
  {
   "cell_type": "markdown",
   "metadata": {},
   "source": [
    "#### Modulus (a%b) :"
   ]
  },
  {
   "cell_type": "code",
   "execution_count": 37,
   "metadata": {},
   "outputs": [
    {
     "name": "stdout",
     "output_type": "stream",
     "text": [
      "[1 0 1 0 1]\n",
      "\n",
      "[0 0 0 0 0]\n"
     ]
    }
   ],
   "source": [
    "arr = np.array([1,2,3,4,5])\n",
    "mod = arr % 2 \n",
    "print(mod)\n",
    "\n",
    "print()\n",
    "\n",
    "arr1 = np.array([1,2,3,4,5])\n",
    "arr2 = np.array([1,2,3,4,5])\n",
    "mods = np.mod(arr1, arr2) \n",
    "print(mods)"
   ]
  },
  {
   "cell_type": "markdown",
   "metadata": {},
   "source": [
    "#### Power (a**b) :"
   ]
  },
  {
   "cell_type": "code",
   "execution_count": 38,
   "metadata": {},
   "outputs": [
    {
     "name": "stdout",
     "output_type": "stream",
     "text": [
      "[ 1  4  9 16 25]\n",
      "\n",
      "[   1    4   27  256 3125]\n"
     ]
    }
   ],
   "source": [
    "arr = np.array([1,2,3,4,5])\n",
    "pow = arr ** 2 \n",
    "print(pow)\n",
    "\n",
    "print()\n",
    "\n",
    "arr1 = np.array([1,2,3,4,5])\n",
    "arr2 = np.array([1,2,3,4,5])\n",
    "pows = np.power(arr1, arr2) \n",
    "print(pows)"
   ]
  },
  {
   "cell_type": "markdown",
   "metadata": {},
   "source": [
    "#### Reciprocal (1/a) :"
   ]
  },
  {
   "cell_type": "code",
   "execution_count": 41,
   "metadata": {},
   "outputs": [
    {
     "name": "stdout",
     "output_type": "stream",
     "text": [
      "[1.         0.5        0.33333333 0.25       0.2       ]\n",
      "\n",
      "[1 0 0 0 0]\n"
     ]
    }
   ],
   "source": [
    "arr = np.array([1,2,3,4,5])\n",
    "rec = 1 / arr \n",
    "print(rec)\n",
    "\n",
    "print()\n",
    "\n",
    "arr1 = np.array([1,2,3,4,5])\n",
    "recp = np.reciprocal(arr1) \n",
    "print(recp)"
   ]
  },
  {
   "cell_type": "code",
   "execution_count": null,
   "metadata": {},
   "outputs": [],
   "source": []
  }
 ],
 "metadata": {
  "kernelspec": {
   "display_name": "Python 3",
   "language": "python",
   "name": "python3"
  },
  "language_info": {
   "codemirror_mode": {
    "name": "ipython",
    "version": 3
   },
   "file_extension": ".py",
   "mimetype": "text/x-python",
   "name": "python",
   "nbconvert_exporter": "python",
   "pygments_lexer": "ipython3",
   "version": "3.12.1"
  }
 },
 "nbformat": 4,
 "nbformat_minor": 2
}
